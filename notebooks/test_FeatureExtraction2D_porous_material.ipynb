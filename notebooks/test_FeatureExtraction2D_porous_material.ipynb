{
 "cells": [
  {
   "cell_type": "markdown",
   "metadata": {},
   "source": [
    "# Test CTSegNet Pore Analysis  \n",
    "\n",
    "Notebook Author: Aniket Tekawade, Argonne National Laboratory, atekawade@anl.gov  "
   ]
  },
  {
   "cell_type": "markdown",
   "metadata": {},
   "source": [
    "### Documentation Link:  \n",
    "\n",
    "https://ctsegnet.readthedocs.io/en/latest/source/api/seg_utils.html#ct_segnet.seg_utils.FeatureExtraction2D  "
   ]
  },
  {
   "cell_type": "code",
   "execution_count": 1,
   "metadata": {},
   "outputs": [],
   "source": [
    "%matplotlib inline\n",
    "\n",
    "import sys\n",
    "import os\n",
    "import numpy as np\n",
    "import time\n",
    "\n",
    "import matplotlib.pyplot as plt\n",
    "import matplotlib as mpl\n",
    "\n",
    "# from ct_segnet.data_utils import data_io\n",
    "from ct_segnet.data_utils.data_io import DataFile\n",
    "from ct_segnet import viewer\n",
    "from ct_segnet import seg_utils\n",
    "\n",
    "figw = 8\n",
    "import seaborn as sns\n",
    "sns.set(font_scale = 1)\n",
    "import time\n",
    "from porespy import generators\n",
    "sns.set_style(\"whitegrid\", {'axes.grid' : False})"
   ]
  },
  {
   "cell_type": "code",
   "execution_count": 2,
   "metadata": {},
   "outputs": [],
   "source": [
    "model_path = \"/home/atekawade/DataArchive3/Deep_Segmenting/model_repo\"\n",
    "model_name = \"M_h01_242_256.hdf5\"\n",
    "model_filename = os.path.join(model_path, model_name)"
   ]
  },
  {
   "cell_type": "code",
   "execution_count": 3,
   "metadata": {},
   "outputs": [],
   "source": [
    "csv_path = \"/data02/MyArchive/aisteer_3Dencoders/data_TomoTwin/datalist_test.csv\""
   ]
  },
  {
   "cell_type": "code",
   "execution_count": 4,
   "metadata": {},
   "outputs": [],
   "source": [
    "from ct_segnet.seg_utils import FeatureExtraction2D\n",
    "from ct_segnet.measurements import pore_analysis"
   ]
  },
  {
   "cell_type": "code",
   "execution_count": 5,
   "metadata": {},
   "outputs": [],
   "source": [
    "img_shape = (1920,1920)"
   ]
  },
  {
   "cell_type": "markdown",
   "metadata": {},
   "source": [
    "## Porespy generator  "
   ]
  },
  {
   "cell_type": "code",
   "execution_count": 6,
   "metadata": {},
   "outputs": [],
   "source": [
    "def add_pores(template, window_size, coordinates = None, void_frac = 0.1, void_size = 1.0):\n",
    "    \n",
    "    if coordinates == None:\n",
    "        y, x = [np.random.randint(0, template.shape[ii] - window_size) for ii in range(2)]\n",
    "    else:\n",
    "        y, x = coordinates\n",
    "    \n",
    "    sy = slice(y, y+window_size)\n",
    "    sx = slice(x, x+window_size)\n",
    "    \n",
    "    patch_img = generators.blobs((window_size,window_size), \\\n",
    "                                 porosity = 1 - void_frac,\\\n",
    "                                 blobiness = 10.0**(1-void_size)).astype(np.uint8)\n",
    "    template[sy, sx] = template[sy, sx]*patch_img\n",
    "\n",
    "    return template"
   ]
  },
  {
   "cell_type": "code",
   "execution_count": 7,
   "metadata": {},
   "outputs": [
    {
     "data": {
      "text/plain": [
       "0.8216859266493055"
      ]
     },
     "execution_count": 7,
     "metadata": {},
     "output_type": "execute_result"
    },
    {
     "data": {
      "image/png": "[encoded data removed]",
      "text/plain": [
       "<Figure size 432x288 with 1 Axes>"
      ]
     },
     "metadata": {},
     "output_type": "display_data"
    }
   ],
   "source": [
    "gt_img = generators.blobs(img_shape, porosity = 0.8, blobiness = 1.0)\n",
    "plt.imshow(gt_img, cmap = 'gray')\n",
    "np.sum(gt_img)/np.size(gt_img)"
   ]
  },
  {
   "cell_type": "code",
   "execution_count": 8,
   "metadata": {},
   "outputs": [],
   "source": [
    "noise_std = 0.3\n",
    "tsteps = 20\n",
    "t_start = 3\n",
    "img_series = np.zeros((tsteps,) + img_shape)\n",
    "for ii in range(tsteps):\n",
    "    \n",
    "    if ii > t_start:\n",
    "        gt_img = add_pores(gt_img, 256, void_size = 1.2, void_frac = 0.1)\n",
    "    \n",
    "    \n",
    "    img_series[ii] = gt_img + np.random.normal(0, noise_std, img_shape)\n"
   ]
  },
  {
   "cell_type": "code",
   "execution_count": null,
   "metadata": {},
   "outputs": [],
   "source": [
    "fig, ax = plt.subplots(4, int(np.ceil(tsteps//4)), figsize = (16,20))\n",
    "sns.set_style(\"whitegrid\", {'axes.grid' : False})\n",
    "for ii in range(tsteps):\n",
    "    ax.flat[ii].axis('off')\n",
    "    ax.flat[ii].imshow(img_series[ii], cmap = 'gray')    \n",
    "    ax.flat[ii].set_title(\"tstep %i\"%ii)\n",
    "\n",
    "fig.tight_layout()"
   ]
  },
  {
   "cell_type": "markdown",
   "metadata": {},
   "source": [
    "## Simulate an acquisition  "
   ]
  },
  {
   "cell_type": "code",
   "execution_count": null,
   "metadata": {},
   "outputs": [],
   "source": [
    "ndims = 3\n",
    "max_patches = (4,4)\n",
    "overlap = 20"
   ]
  },
  {
   "cell_type": "code",
   "execution_count": null,
   "metadata": {},
   "outputs": [],
   "source": [
    "fe = FeatureExtraction2D(model_filename = model_filename, \\\n",
    "                         max_patches = max_patches, \\\n",
    "                         overlap = overlap)\n",
    "# example\n",
    "idx = 10\n",
    "features = fe.extract_measurement(img_series[idx], \\\n",
    "                                  pore_analysis)\n",
    "print(features)"
   ]
  },
  {
   "cell_type": "code",
   "execution_count": null,
   "metadata": {},
   "outputs": [],
   "source": [
    "t_start = time.time()\n",
    "map_f = fe.vis_feature(img_series[idx], pore_analysis)\n",
    "t_end = time.time()\n",
    "print(\"took %.2f seconds\"%(t_end-t_start))"
   ]
  },
  {
   "cell_type": "code",
   "execution_count": null,
   "metadata": {
    "scrolled": false
   },
   "outputs": [],
   "source": [
    "fig, ax = plt.subplots(1,3)\n",
    "labels = [\"fraction\", \"number\", \"size\"]\n",
    "for ii in range(3):\n",
    "    ax[ii].imshow(img_series[idx], cmap = 'gray')\n",
    "    ax[ii].imshow(map_f[ii], cmap = 'copper', alpha = 0.2)\n",
    "    ax[ii].set_title(labels[ii])\n",
    "    ax[ii].axis('off')"
   ]
  },
  {
   "cell_type": "code",
   "execution_count": null,
   "metadata": {},
   "outputs": [],
   "source": [
    "time_series = [fe.extract_measurement(img, pore_analysis) for img in img_series]\n",
    "time_series = np.asarray(time_series)"
   ]
  },
  {
   "cell_type": "code",
   "execution_count": null,
   "metadata": {},
   "outputs": [],
   "source": [
    "fig, ax = plt.subplots(1,1, figsize = (8,8))\n",
    "ax.plot(np.arange(tsteps), time_series[:,0], label = \"fraction\")\n",
    "ax.plot(np.arange(tsteps), time_series[:,1], label = \"number\")\n",
    "ax.plot(np.arange(tsteps), time_series[:,2], label = \"size\")\n",
    "ax.legend(fontsize = 12)\n",
    "ax.set_xlabel(\"time step\", fontsize = 12)\n",
    "ax.set_ylabel(\"feature\", fontsize = 12)"
   ]
  },
  {
   "cell_type": "code",
   "execution_count": null,
   "metadata": {},
   "outputs": [],
   "source": [
    "pore_path = '/data02/MyArchive/quick_plots/pore_anim2'\n",
    "os.makedirs(pore_path)\n",
    "sns.set_style(\"whitegrid\", {'axes.grid' : False})\n",
    "for ii in range(tsteps):\n",
    "    fig, ax = plt.subplots(1,2, figsize = (16,8))\n",
    "    ax[0].axis('off')\n",
    "    \n",
    "    map_f = fe.vis_feature(img_series[ii], pore_analysis)\n",
    "    ax[0].imshow(img_series[ii], cmap = 'gray')\n",
    "    ax[0].imshow(map_f[1], cmap = 'copper', alpha = 0.2)\n",
    "    ax[0].set_title(\"tstep %i\"%ii)\n",
    "    \n",
    "    \n",
    "    ax[1].plot(np.arange(tsteps), time_series[:,0], label = \"pore fraction\")\n",
    "    ax[1].plot(np.arange(tsteps), time_series[:,1], label = \"number of pores\")\n",
    "    ax[1].plot(np.arange(tsteps), time_series[:,2], label = \"pore size\")\n",
    "    ax[1].legend(fontsize = 12)\n",
    "    ax[1].scatter(ii, time_series[ii,0])\n",
    "    ax[1].scatter(ii, time_series[ii,1])\n",
    "    ax[1].scatter(ii, time_series[ii,2])\n",
    "    ax[1].set_xlabel(\"time step\", fontsize = 12)\n",
    "    ax[1].set_ylabel(\"feature\", fontsize = 12)\n",
    "    \n",
    "    plt.savefig(os.path.join(pore_path, \"plot_%ii\"%ii))\n",
    "fig.tight_layout()"
   ]
  },
  {
   "cell_type": "markdown",
   "metadata": {},
   "source": [
    "## Scaling with n patches  "
   ]
  },
  {
   "cell_type": "code",
   "execution_count": null,
   "metadata": {},
   "outputs": [],
   "source": [
    "def get_time(imgs, fe, measurement, **kwargs):\n",
    "\n",
    "    time_series = np.zeros((imgs.shape[0], ndims))\n",
    "    times = []\n",
    "    for ii, img in enumerate(imgs):\n",
    "\n",
    "\n",
    "        for jj in range(niters):\n",
    "\n",
    "            t_start = time.time()\n",
    "            time_series[ii, :] = fe.extract_measurement(img, measurement, **kwargs)\n",
    "            t_end = time.time()\n",
    "            times.append(t_end-t_start)\n",
    "    avg_time = 1000.0*np.mean(times)\n",
    "#     print(\"Average time: %.2f ms\"%(avg_time)  \n",
    "    return avg_time"
   ]
  },
  {
   "cell_type": "code",
   "execution_count": null,
   "metadata": {},
   "outputs": [],
   "source": [
    "n_patch_list = [1, 2, 3, 4, 5, 6, 7, 8]\n",
    "niters = 5 # number of times to repeat operation for average time estimate\n",
    "img_shape = (1920,1920)\n",
    "\n",
    "fe = FeatureExtraction2D(model_filename = model_filename, \\\n",
    "                         max_patches = max_patches, \\\n",
    "                         overlap = overlap)\n",
    "times_patching = []\n",
    "for n_patch in n_patch_list:\n",
    "    \n",
    "    fe.max_patches = (n_patch, n_patch)\n",
    "    \n",
    "    this_time = get_time(img_series, fe, pore_analysis)\n",
    "    times_patching.append(this_time)\n",
    "    print(\"Average time: %.2f ms\"%this_time)           "
   ]
  },
  {
   "cell_type": "code",
   "execution_count": null,
   "metadata": {},
   "outputs": [],
   "source": [
    "fig, ax = plt.subplots(1,1, figsize = (6,6))\n",
    "ax.plot(n_patch_list, times_patching, '--', color = 'black')\n",
    "ax.set_xlabel(\"number of patches (per side)\", fontsize = 12)\n",
    "ax.set_ylabel(\"time (milliseconds)\", fontsize = 12)"
   ]
  },
  {
   "cell_type": "markdown",
   "metadata": {},
   "source": [
    "## Noise analysis  "
   ]
  },
  {
   "cell_type": "code",
   "execution_count": null,
   "metadata": {},
   "outputs": [],
   "source": [
    "seg_img = gt_img.copy()\n",
    "SNR_steps = 10\n",
    "std_vals = np.linspace(0.1,1.0, 10)\n",
    "SNR = 1/std_vals\n",
    "img_series_noise = np.asarray([seg_img + np.random.normal(0, std, seg_img.shape) for std in std_vals])"
   ]
  },
  {
   "cell_type": "code",
   "execution_count": null,
   "metadata": {},
   "outputs": [],
   "source": [
    "fe = FeatureExtraction2D(model_filename = model_filename, \\\n",
    "                         max_patches = (2,2), \\\n",
    "                         overlap = 20)"
   ]
  },
  {
   "cell_type": "code",
   "execution_count": null,
   "metadata": {},
   "outputs": [],
   "source": [
    "from ct_segnet.measurements import segmentation_accuracy"
   ]
  },
  {
   "cell_type": "code",
   "execution_count": null,
   "metadata": {},
   "outputs": [],
   "source": [
    "SNR_series = [fe.extract_measurement(img, segmentation_accuracy, true_img = seg_img) for img in img_series_noise]\n",
    "SNR_series = np.asarray(SNR_series)"
   ]
  },
  {
   "cell_type": "code",
   "execution_count": null,
   "metadata": {},
   "outputs": [],
   "source": [
    "fig, ax = plt.subplots(1,1, figsize = (8,8))\n",
    "ax.plot(SNR, SNR_series[:,0], label = \"Jaccard IoU\")\n",
    "ax.plot(SNR, SNR_series[:,1], label = \"Dice Score\")\n",
    "ax.legend(fontsize = 12)\n",
    "ax.set_xlabel(\"SNR\", fontsize = 12)\n",
    "ax.set_ylabel(\"segmentation accuracy\", fontsize = 12)"
   ]
  },
  {
   "cell_type": "code",
   "execution_count": null,
   "metadata": {},
   "outputs": [],
   "source": [
    "fig, ax = plt.subplots(2, int(np.ceil(SNR_steps//2)), figsize = (16,8))\n",
    "\n",
    "for ii in range(SNR_steps):\n",
    "    ax.flat[ii].axis('off')\n",
    "    ax.flat[ii].imshow(img_series_noise[ii], cmap = 'gray')    \n",
    "    ax.flat[ii].set_title(\"SNR %.2f\"%SNR[ii])\n",
    "\n",
    "fig.tight_layout()"
   ]
  },
  {
   "cell_type": "code",
   "execution_count": null,
   "metadata": {},
   "outputs": [],
   "source": [
    "fig, ax = plt.subplots(1,1, figsize = (12,12))\n",
    "viewer.edge_plot(img_series[-1], gt_img, ax = ax)\n",
    "ax.axis('off')"
   ]
  },
  {
   "cell_type": "code",
   "execution_count": null,
   "metadata": {},
   "outputs": [],
   "source": [
    "fig, ax = plt.subplots(1,1, figsize = (12,12))\n",
    "ax.imshow(img_series[-1], cmap = 'gray')\n",
    "ax.axis('off')"
   ]
  },
  {
   "cell_type": "code",
   "execution_count": null,
   "metadata": {},
   "outputs": [],
   "source": [
    "time.ctime()"
   ]
  },
  {
   "cell_type": "code",
   "execution_count": null,
   "metadata": {},
   "outputs": [],
   "source": []
  },
  {
   "cell_type": "code",
   "execution_count": null,
   "metadata": {},
   "outputs": [],
   "source": []
  },
  {
   "cell_type": "code",
   "execution_count": null,
   "metadata": {},
   "outputs": [],
   "source": []
  },
  {
   "cell_type": "code",
   "execution_count": null,
   "metadata": {},
   "outputs": [],
   "source": []
  },
  {
   "cell_type": "code",
   "execution_count": null,
   "metadata": {},
   "outputs": [],
   "source": []
  },
  {
   "cell_type": "code",
   "execution_count": null,
   "metadata": {},
   "outputs": [],
   "source": []
  },
  {
   "cell_type": "code",
   "execution_count": null,
   "metadata": {},
   "outputs": [],
   "source": []
  },
  {
   "cell_type": "code",
   "execution_count": null,
   "metadata": {},
   "outputs": [],
   "source": []
  },
  {
   "cell_type": "code",
   "execution_count": null,
   "metadata": {},
   "outputs": [],
   "source": []
  },
  {
   "cell_type": "code",
   "execution_count": null,
   "metadata": {},
   "outputs": [],
   "source": []
  },
  {
   "cell_type": "code",
   "execution_count": null,
   "metadata": {},
   "outputs": [],
   "source": []
  },
  {
   "cell_type": "code",
   "execution_count": null,
   "metadata": {},
   "outputs": [],
   "source": []
  },
  {
   "cell_type": "markdown",
   "metadata": {},
   "source": [
    "The end!"
   ]
  },
  {
   "cell_type": "code",
   "execution_count": null,
   "metadata": {},
   "outputs": [],
   "source": []
  }
 ],
 "metadata": {
  "kernelspec": {
   "display_name": "Python CTSegNet==2.0 (tf=2.0)",
   "language": "python",
   "name": "tf2gpu"
  },
  "language_info": {
   "codemirror_mode": {
    "name": "ipython",
    "version": 3
   },
   "file_extension": ".py",
   "mimetype": "text/x-python",
   "name": "python",
   "nbconvert_exporter": "python",
   "pygments_lexer": "ipython3",
   "version": "3.7.7"
  }
 },
 "nbformat": 4,
 "nbformat_minor": 4
}
